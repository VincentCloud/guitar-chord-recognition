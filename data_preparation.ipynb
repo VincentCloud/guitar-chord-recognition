{
 "nbformat": 4,
 "nbformat_minor": 2,
 "metadata": {
  "colab": {
   "name": "yolo_hand_recognition",
   "provenance": [],
   "mount_file_id": "1nKz9j4rPD76xeElXwYqUI52Aw1UTsN4l",
   "authorship_tag": "ABX9TyPNwSbAezydetcA6+avf45d",
   "include_colab_link": true
  },
  "kernelspec": {
   "name": "pycharm-3582ff10",
   "language": "python",
   "display_name": "PyCharm (guitar-chord-recognition)"
  },
  "language_info": {
   "name": "python",
   "version": "3.9.7",
   "mimetype": "text/x-python",
   "codemirror_mode": {
    "name": "ipython",
    "version": 3
   },
   "pygments_lexer": "ipython3",
   "nbconvert_exporter": "python",
   "file_extension": ".py"
  },
  "interpreter": {
   "hash": "aee8b7b246df8f9039afb4144a1f6fd8d2ca17a180786b69acc140d282b71a49"
  }
 },
 "cells": [
  {
   "cell_type": "code",
   "execution_count": 50,
   "source": [
    "# process the input data to fit yolo training image format\n",
    "import json\n",
    "import numpy as np \n",
    "import os\n",
    "\n",
    "DATA_PATH = 'dataset/all_data'\n",
    "OUTPUT_PATH = 'dataset/yolo_hand_data'\n",
    "RESIZED_IMAGE_SIZE = (416, 416)"
   ],
   "outputs": [],
   "metadata": {
    "id": "2QQba6Yo0J8p"
   }
  },
  {
   "cell_type": "code",
   "execution_count": 51,
   "source": [
    "# \n",
    "from PIL import Image, ImageDraw\n",
    "\n",
    "file_path = 'dataset/all_data/000015774_01_l'\n",
    "\n",
    "with open(f'{file_path}.json') as json_file:\n",
    "    data = json.load(json_file)\n",
    "\n",
    "    with Image.open(f'{file_path}.jpg') as img:\n",
    "      original_width, original_height = img.size\n",
    "      resized_img = img.resize(RESIZED_IMAGE_SIZE)\n",
    "      draw = ImageDraw.Draw(resized_img)\n",
    "\n",
    "      hand_pts = data['hand_pts']\n",
    "      left_pt = min(hand_pts, key=lambda hand_pt: hand_pt[0])\n",
    "      right_pt = max(hand_pts, key=lambda hand_pt: hand_pt[0])\n",
    "      up_pt = min(hand_pts, key=lambda hand_pt: hand_pt[1])\n",
    "      low_pt = max(hand_pts, key=lambda hand_pt: hand_pt[1])\n",
    "      horizontal_scalar = RESIZED_IMAGE_SIZE[0] / original_width\n",
    "      vertical_scalar = RESIZED_IMAGE_SIZE[1] / original_height\n",
    "      resized_upper_left_coordinate = (left_pt[0] * horizontal_scalar, up_pt[1] * vertical_scalar)\n",
    "      resized_lower_right_coordinate = (right_pt[0] * horizontal_scalar, low_pt[1] * vertical_scalar)\n",
    "\n",
    "      margin = 0.2\n",
    "      resized_bb_width = resized_lower_right_coordinate[0] - resized_upper_left_coordinate[0]\n",
    "      resized_bb_height = resized_lower_right_coordinate[1] - resized_upper_left_coordinate[1]\n",
    "\n",
    "      resized_upper_left_coordinate_with_margin = (\n",
    "          resized_upper_left_coordinate[0] - resized_bb_width * margin,\n",
    "          resized_upper_left_coordinate[1] - resized_bb_height * margin\n",
    "      )\n",
    "      resized_lower_right_coordinate_with_margin = (\n",
    "          resized_lower_right_coordinate[0] + resized_bb_width * margin,\n",
    "          resized_lower_right_coordinate[1] + resized_bb_height * margin\n",
    "      )\n",
    "      print(f'resized upper left: {resized_upper_left_coordinate_with_margin}'\n",
    "            f'resized lower right: {resized_lower_right_coordinate_with_margin}')\n",
    "\n",
    "      draw.rectangle((resized_upper_left_coordinate_with_margin, resized_lower_right_coordinate_with_margin), outline=(255, 255, 255))\n",
    "\n",
    "      # tuple_hand_pts = tuple((hand_pt[0], hand_pt[1]) for hand_pt in hand_pts)\n",
    "\n",
    "      # draw.point(tuple((hand_pt[0], hand_pt[1]) for hand_pt in hand_pts), fill=(255, 255, 0))\n",
    "      # draw.point(((upmost_pt[0], upmost_pt[1])), fill=(255, 255, 0))\n",
    "\n",
    "\n",
    "      resized_img.show()"
   ],
   "outputs": [
    {
     "name": "stdout",
     "output_type": "stream",
     "text": [
      "resized upper left: (260.70407409667973, 296.49859320746526)resized lower right: (286.4343185424804, 334.85767035590277)\n"
     ]
    }
   ],
   "metadata": {
    "colab": {
     "base_uri": "https://localhost:8080/",
     "height": 737
    },
    "id": "oKvVSfrh0yiA",
    "outputId": "f6a656ac-99bd-40f0-cc49-1bc061479fe2"
   }
  },
  {
   "cell_type": "code",
   "execution_count": 57,
   "source": [
    "import glob\n",
    "from sklearn.model_selection import train_test_split\n",
    "\n",
    "def generate_image_list(data_path=DATA_PATH, test_run=False, head_size=500):\n",
    "\n",
    "    seed = 1\n",
    "\n",
    "    jpg_file_paths = glob.glob(f'{data_path}/*.jpg')\n",
    "    jpg_file_names = []\n",
    "\n",
    "    if test_run:\n",
    "        jpg_file_paths = jpg_file_paths[:head_size]\n",
    "\n",
    "    for jpg_file_path in jpg_file_paths:\n",
    "      jpg_file_names.append(os.path.split(jpg_file_path)[1])\n",
    "\n",
    "    file_names = list(map(lambda jpg_filename: jpg_filename.strip('.jpg'), jpg_file_names))\n",
    "    json_file_names = list(map(lambda filename: f'{filename}.json', file_names))\n",
    "    # partition the data into training, validation and test set\n",
    "    filenames_train, filenames_test, label_train, label_test = train_test_split(file_names, json_file_names, test_size=0.1, random_state=seed)\n",
    "    return filenames_train, filenames_test, label_train, label_test"
   ],
   "outputs": [],
   "metadata": {
    "colab": {
     "base_uri": "https://localhost:8080/"
    },
    "id": "ePuVmrVx0_j5",
    "outputId": "7ee9d4c5-79b7-4ca5-c155-329179b23e0e"
   }
  },
  {
   "cell_type": "code",
   "execution_count": 58,
   "source": [
    "from tqdm import tqdm\n",
    "\n",
    "def create_yolo_standard_dataset_from_filenames(filenames,\n",
    "                                 data_type='train',\n",
    "                                 resized_img_size=RESIZED_IMAGE_SIZE,\n",
    "                                 margin=0.15,\n",
    "                                 output_path=OUTPUT_PATH,\n",
    "                                 test_run=False,\n",
    "                                 plot_rec=False):\n",
    "  # for each filename\n",
    "  # extract the hand info from the json file create a txt for it\n",
    "  # copy the file from all_data/ into yolo_hand_data/images/{data_type}\n",
    "  if test_run:\n",
    "    filenames = filenames[:10]\n",
    "    output_path = 'dataset/yolo_hand_data_test'\n",
    "  for filename in tqdm(filenames):\n",
    "    json_file_path = f'{DATA_PATH}/{filename}.json'\n",
    "    jpg_file_path = f'{DATA_PATH}/{filename}.jpg'\n",
    "    \n",
    "    with open(json_file_path) as json_file:\n",
    "      with Image.open(jpg_file_path) as jpg_file:\n",
    "        original_width, original_height = jpg_file.size\n",
    "        resized_img = jpg_file.resize(resized_img_size)\n",
    "        draw = ImageDraw.Draw(resized_img)\n",
    "      data = json.load(json_file)\n",
    "      yolo_data = []\n",
    "\n",
    "      # get the hand points in the image files\n",
    "      hand_pts = data['hand_pts']\n",
    "      left_pt = min(hand_pts, key=lambda hand_pt: hand_pt[0])\n",
    "      right_pt = max(hand_pts, key=lambda hand_pt: hand_pt[0])\n",
    "      up_pt = min(hand_pts, key=lambda hand_pt: hand_pt[1])\n",
    "      low_pt = max(hand_pts, key=lambda hand_pt: hand_pt[1])\n",
    "      \n",
    "      horizontal_scalar = RESIZED_IMAGE_SIZE[0] / original_width\n",
    "      vertical_scalar = RESIZED_IMAGE_SIZE[1] / original_height\n",
    "      resized_upper_left_coordinate = (left_pt[0] * horizontal_scalar, up_pt[1] * vertical_scalar)\n",
    "      resized_lower_right_coordinate = (right_pt[0] * horizontal_scalar, low_pt[1] * vertical_scalar)\n",
    "\n",
    "      resized_bb_width = resized_lower_right_coordinate[0] - resized_upper_left_coordinate[0]\n",
    "      resized_bb_height = resized_lower_right_coordinate[1] - resized_upper_left_coordinate[1]\n",
    "\n",
    "      resized_upper_left_coordinate_with_margin = (\n",
    "          int(resized_upper_left_coordinate[0] - resized_bb_width * margin),\n",
    "          int(resized_upper_left_coordinate[1] - resized_bb_height * margin)\n",
    "      )\n",
    "      resized_lower_right_coordinate_with_margin = (\n",
    "          int(resized_lower_right_coordinate[0] + resized_bb_width * margin),\n",
    "          int(resized_lower_right_coordinate[1] + resized_bb_height * margin)\n",
    "      )\n",
    "\n",
    "      resized_bb_width_with_margin = int(resized_bb_width + resized_bb_width * 2 * margin)\n",
    "      resized_bb_height_with_margin = int(resized_bb_height + resized_bb_height * 2 * margin)\n",
    "\n",
    "      if test_run and plot_rec:\n",
    "        draw.rectangle((resized_upper_left_coordinate_with_margin, resized_lower_right_coordinate_with_margin), outline=(255, 255, 255))\n",
    "\n",
    "      x_center = resized_upper_left_coordinate_with_margin[0] + resized_bb_width_with_margin / 2\n",
    "      y_center = resized_lower_right_coordinate_with_margin[1] - resized_bb_height_with_margin / 2\n",
    "\n",
    "\n",
    "      x_center /= resized_img_size[0]\n",
    "      y_center /= resized_img_size[1]\n",
    "      resized_bb_width_with_margin /= resized_img_size[0]\n",
    "      resized_bb_height_with_margin /= resized_img_size[1]\n",
    "\n",
    "      yolo_data.append([0,\n",
    "                        x_center,\n",
    "                        y_center,\n",
    "                        resized_bb_width_with_margin,\n",
    "                        resized_bb_height_with_margin\n",
    "                        ])\n",
    "\n",
    "      yolo_data = np.array(yolo_data)\n",
    "      np.savetxt(\n",
    "        os.path.join(output_path, f'labels/{data_type}/{filename}.txt'),\n",
    "        yolo_data, \n",
    "        fmt=['%d', '%f', '%f', '%f', '%f'])\n",
    "      # shutil.copy(jpg_file_path, os.path.join(OUTPUT_PATH, f'images/{data_type}/{filename}.jpg'))\n",
    "      # write the new resized image to the formatted dataset\n",
    "      resized_img.save(os.path.join(output_path, f'images/{data_type}/{filename}.jpg'))"
   ],
   "outputs": [],
   "metadata": {}
  },
  {
   "cell_type": "code",
   "execution_count": 60,
   "source": [
    "# smaller dataset for initial tuning\n",
    "filenames_train, filenames_test, _, _ = generate_image_list(test_run=True)\n",
    "\n",
    "create_yolo_standard_dataset_from_filenames(filenames_train,\n",
    "                                            output_path='dataset/yolo_hand_data_smaller',\n",
    "                                            data_type='train'\n",
    "                                            )\n",
    "\n",
    "create_yolo_standard_dataset_from_filenames(filenames_test,\n",
    "                                            output_path='dataset/yolo_hand_data_smaller',\n",
    "                                            data_type='validation'\n",
    "                                            )"
   ],
   "outputs": [
    {
     "name": "stderr",
     "output_type": "stream",
     "text": [
      "100%|██████████| 450/450 [00:15<00:00, 29.82it/s]\n",
      "100%|██████████| 50/50 [00:01<00:00, 29.02it/s]\n"
     ]
    }
   ],
   "metadata": {}
  },
  {
   "cell_type": "code",
   "execution_count": 62,
   "source": [
    "# bigger dataset for final training\n",
    "filenames_train, filenames_test, _, _ = generate_image_list()\n",
    "\n",
    "create_yolo_standard_dataset_from_filenames(filenames_train,\n",
    "                                            data_type='train')\n",
    "\n",
    "create_yolo_standard_dataset_from_filenames(filenames_test,\n",
    "                                            data_type='validation')"
   ],
   "outputs": [
    {
     "name": "stderr",
     "output_type": "stream",
     "text": [
      "100%|██████████| 2482/2482 [01:52<00:00, 22.15it/s]\n",
      "100%|██████████| 276/276 [00:13<00:00, 20.80it/s]\n"
     ]
    }
   ],
   "metadata": {
    "colab": {
     "base_uri": "https://localhost:8080/"
    },
    "id": "xVxeMGMK1BRM",
    "outputId": "15e7c117-8115-4e3a-9423-8b80a469e29f"
   }
  },
  {
   "cell_type": "code",
   "execution_count": null,
   "source": [],
   "outputs": [],
   "metadata": {
    "id": "keEJ69Ie1CUq"
   }
  }
 ]
}